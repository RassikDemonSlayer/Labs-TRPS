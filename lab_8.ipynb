{
 "cells": [
  {
   "cell_type": "markdown",
   "id": "f8672536-5408-4774-b6b1-a1c81d0611c5",
   "metadata": {},
   "source": [
    "#### **Задание 8. Вариант 3**"
   ]
  },
  {
   "cell_type": "markdown",
   "id": "fecc640f-f4d6-46c1-b1f2-628227ff0031",
   "metadata": {},
   "source": [
    "**Задача 3** \\\n",
    "3. Определить координаты центра тяжести трех материальных точек \\\n",
    "с массами m1, m2, m3 и координатами (x1,y1), (x2,y2), (x3,y3) по формулам:\\\n",
    "xc = (m1x1 + m2x2 + m3x3)/(m1 + m2 + m3),\\\n",
    "yc = (m1y1 + m2y2 + m3y3)/(m1 + m2 + m3).\\\n",
    "Вычисление координаты оформить функцией с параметрами."
   ]
  },
  {
   "cell_type": "code",
   "execution_count": 1,
   "id": "4ae6dbc9-3ded-4fcb-9d54-958400983da9",
   "metadata": {},
   "outputs": [],
   "source": [
    "import numpy as np"
   ]
  },
  {
   "cell_type": "code",
   "execution_count": 7,
   "id": "78f299d7-235d-40ef-92b9-3d378c0311fb",
   "metadata": {},
   "outputs": [],
   "source": [
    "def center_mass_coords(m1, m2, m3, coords1, coords2, coords3,):\n",
    "    xc = (m1*coords1[0]+m2*coords2[0]+ m3*coords3[0])/(m1+m2+m3)\n",
    "    yc = (m1*coords1[1]+m2*coords2[1]+ m3*coords3[1])/(m1+m2+m3)\n",
    "    return f'xc: {xc}', f'yc: {yc}'"
   ]
  },
  {
   "cell_type": "code",
   "execution_count": 8,
   "id": "4d171442-183b-47a8-8652-0739de6e25f8",
   "metadata": {},
   "outputs": [],
   "source": [
    "m1 = np.random.randint(1, 1000)\n",
    "m2 = np.random.randint(1, 1000)\n",
    "m3 = np.random.randint(1, 1000)\n",
    "\n",
    "m1coords = tuple((np.random.randint(-100, 100), np.random.randint(-100, 100)))\n",
    "m2coords = tuple((np.random.randint(-100, 100), np.random.randint(-100, 100)))\n",
    "m3coords = tuple((np.random.randint(-100, 100), np.random.randint(-100, 100)))"
   ]
  },
  {
   "cell_type": "code",
   "execution_count": 9,
   "id": "f0bc5564-682b-4729-ae09-4e39347b8d2b",
   "metadata": {},
   "outputs": [
    {
     "data": {
      "text/plain": [
       "(678, 974, 992)"
      ]
     },
     "execution_count": 9,
     "metadata": {},
     "output_type": "execute_result"
    }
   ],
   "source": [
    "m1, m2, m3"
   ]
  },
  {
   "cell_type": "code",
   "execution_count": 10,
   "id": "611ee6b3-d524-4942-ac53-56793f7d639b",
   "metadata": {},
   "outputs": [
    {
     "data": {
      "text/plain": [
       "((85, -10), (76, -74), (43, -48))"
      ]
     },
     "execution_count": 10,
     "metadata": {},
     "output_type": "execute_result"
    }
   ],
   "source": [
    "m1coords, m2coords, m3coords"
   ]
  },
  {
   "cell_type": "code",
   "execution_count": 11,
   "id": "4d3a71e7-1567-437f-ae3c-d7b96ecb3535",
   "metadata": {},
   "outputs": [
    {
     "data": {
      "text/plain": [
       "('xc: 65.92662632375189', 'yc: -47.83358547655068')"
      ]
     },
     "execution_count": 11,
     "metadata": {},
     "output_type": "execute_result"
    }
   ],
   "source": [
    "center_mass_coords(m1, m2, m3, m1coords, m2coords, m3coords)"
   ]
  },
  {
   "cell_type": "code",
   "execution_count": null,
   "id": "75e8f753-4ec0-434f-ae08-dbd1415ba24d",
   "metadata": {},
   "outputs": [],
   "source": []
  }
 ],
 "metadata": {
  "kernelspec": {
   "display_name": "Python 3 (ipykernel)",
   "language": "python",
   "name": "python3"
  },
  "language_info": {
   "codemirror_mode": {
    "name": "ipython",
    "version": 3
   },
   "file_extension": ".py",
   "mimetype": "text/x-python",
   "name": "python",
   "nbconvert_exporter": "python",
   "pygments_lexer": "ipython3",
   "version": "3.12.7"
  }
 },
 "nbformat": 4,
 "nbformat_minor": 5
}
