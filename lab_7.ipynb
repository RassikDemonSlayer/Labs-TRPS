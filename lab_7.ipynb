{
 "cells": [
  {
   "cell_type": "markdown",
   "id": "d1fd1350-8024-47c4-8856-3b686b216eff",
   "metadata": {},
   "source": [
    "#### **Задание 7. Вариант 3**"
   ]
  },
  {
   "cell_type": "markdown",
   "id": "c6e0c267-d204-4ccb-91cc-b639abe8ac5b",
   "metadata": {},
   "source": [
    "**Задача 1** \\\n",
    "Даны матрица A[4][4] вещественных чисел и константа К. Вычислить матрицу С = А*К."
   ]
  },
  {
   "cell_type": "code",
   "execution_count": 10,
   "id": "74efe635-53d9-4dfc-a1c5-7d63528f107a",
   "metadata": {},
   "outputs": [],
   "source": [
    "import numpy as np"
   ]
  },
  {
   "cell_type": "code",
   "execution_count": 11,
   "id": "0dccc586-0974-4ede-868f-96b2d5ddf012",
   "metadata": {},
   "outputs": [],
   "source": [
    "A = np.random.random(size=(4, 4)).round(2)\n",
    "K = np.random.randint(-100, 100)"
   ]
  },
  {
   "cell_type": "code",
   "execution_count": 12,
   "id": "f7e5cb9a-ba56-4353-9f3e-97edb2e04660",
   "metadata": {},
   "outputs": [
    {
     "data": {
      "text/plain": [
       "array([[0.35, 0.34, 0.94, 0.17],\n",
       "       [0.2 , 0.09, 0.3 , 0.29],\n",
       "       [0.96, 0.34, 0.02, 0.01],\n",
       "       [0.19, 0.27, 0.92, 0.1 ]])"
      ]
     },
     "execution_count": 12,
     "metadata": {},
     "output_type": "execute_result"
    }
   ],
   "source": [
    "A"
   ]
  },
  {
   "cell_type": "code",
   "execution_count": 13,
   "id": "5a9893d9-ae87-40b5-9769-643e29d8f0da",
   "metadata": {},
   "outputs": [
    {
     "data": {
      "text/plain": [
       "15"
      ]
     },
     "execution_count": 13,
     "metadata": {},
     "output_type": "execute_result"
    }
   ],
   "source": [
    "K"
   ]
  },
  {
   "cell_type": "code",
   "execution_count": 14,
   "id": "600377be-5ff7-4ce0-8b08-e37c18861cc0",
   "metadata": {},
   "outputs": [
    {
     "data": {
      "text/plain": [
       "array([[ 5.25,  5.1 , 14.1 ,  2.55],\n",
       "       [ 3.  ,  1.35,  4.5 ,  4.35],\n",
       "       [14.4 ,  5.1 ,  0.3 ,  0.15],\n",
       "       [ 2.85,  4.05, 13.8 ,  1.5 ]])"
      ]
     },
     "execution_count": 14,
     "metadata": {},
     "output_type": "execute_result"
    }
   ],
   "source": [
    "A*K"
   ]
  },
  {
   "cell_type": "markdown",
   "id": "6e5baed7-38bc-4dbb-9b85-dcce84debfc6",
   "metadata": {},
   "source": [
    "**Задача 2** \\\n",
    "Сформировать таблицу Пифагора."
   ]
  },
  {
   "cell_type": "code",
   "execution_count": 15,
   "id": "78ae7e0c-6062-4975-8dfa-a5fb3cb34267",
   "metadata": {},
   "outputs": [],
   "source": [
    "n = 10 # 10 на 10\n",
    "rows = np.arange(1, n+1).reshape(n, 1)\n",
    "cols = np.arange(1, n+1) \n",
    "table = rows * cols"
   ]
  },
  {
   "cell_type": "code",
   "execution_count": 18,
   "id": "71d217c2-9f41-46fc-9250-acddc3d8ea99",
   "metadata": {},
   "outputs": [
    {
     "data": {
      "text/plain": [
       "array([[  1,   2,   3,   4,   5,   6,   7,   8,   9,  10],\n",
       "       [  2,   4,   6,   8,  10,  12,  14,  16,  18,  20],\n",
       "       [  3,   6,   9,  12,  15,  18,  21,  24,  27,  30],\n",
       "       [  4,   8,  12,  16,  20,  24,  28,  32,  36,  40],\n",
       "       [  5,  10,  15,  20,  25,  30,  35,  40,  45,  50],\n",
       "       [  6,  12,  18,  24,  30,  36,  42,  48,  54,  60],\n",
       "       [  7,  14,  21,  28,  35,  42,  49,  56,  63,  70],\n",
       "       [  8,  16,  24,  32,  40,  48,  56,  64,  72,  80],\n",
       "       [  9,  18,  27,  36,  45,  54,  63,  72,  81,  90],\n",
       "       [ 10,  20,  30,  40,  50,  60,  70,  80,  90, 100]])"
      ]
     },
     "execution_count": 18,
     "metadata": {},
     "output_type": "execute_result"
    }
   ],
   "source": [
    "table"
   ]
  },
  {
   "cell_type": "markdown",
   "id": "f4042f77-2cbf-464c-a59d-ff9dc20fb26e",
   "metadata": {},
   "source": [
    "**Задача 3**\\\n",
    "Модифицировать программу6_3 таким образом, чтобы значения X, F1\n",
    "и F2 были представлены двумерным массивом, состоящим из трех строк."
   ]
  },
  {
   "cell_type": "code",
   "execution_count": null,
   "id": "37844867-f688-498e-b7c8-0e5486025096",
   "metadata": {},
   "outputs": [],
   "source": []
  }
 ],
 "metadata": {
  "kernelspec": {
   "display_name": "Python 3 (ipykernel)",
   "language": "python",
   "name": "python3"
  },
  "language_info": {
   "codemirror_mode": {
    "name": "ipython",
    "version": 3
   },
   "file_extension": ".py",
   "mimetype": "text/x-python",
   "name": "python",
   "nbconvert_exporter": "python",
   "pygments_lexer": "ipython3",
   "version": "3.12.7"
  }
 },
 "nbformat": 4,
 "nbformat_minor": 5
}
