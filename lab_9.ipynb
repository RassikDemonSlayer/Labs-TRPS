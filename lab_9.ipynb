{
 "cells": [
  {
   "cell_type": "markdown",
   "id": "5418e467-4e14-4603-bd5c-270b34709dc0",
   "metadata": {},
   "source": [
    "#### **Задание 9. Вариант 3**"
   ]
  },
  {
   "cell_type": "markdown",
   "id": "495064cb-0d53-4da3-9ad5-ef5ebc07fa5c",
   "metadata": {},
   "source": [
    "**Задача 1**\\\n",
    "Написать и отладить программу для задачи из задания 7 (программа7_1) с выделением алгоритма обработки или формирования массива.\n",
    "Организовать вызов процедуры с параметрами-массивами для двух наборов исходных данных. Обработку массив выполнить в подпрограмме,\n",
    "а ввод исходных данных и вывод результатов – в главной функции. Для\n",
    "ускорения отладки массив можно задать константой."
   ]
  },
  {
   "cell_type": "markdown",
   "id": "1979740d-2f8e-43a9-8d6a-5578c3b26b5b",
   "metadata": {},
   "source": [
    "**Задача 2**\\\n",
    "Даны два одномерных массива А[6] и C[6]. Получить A^2, С^2, А*С.\n",
    "Подсчитать число четных и число нечетных чисел в полученных массивах. Перемножение массивов и подсчет выполнить в подпрограмме"
   ]
  },
  {
   "cell_type": "code",
   "execution_count": 2,
   "id": "e5538fd4-e962-418f-b16d-bc3a5fa1b68b",
   "metadata": {},
   "outputs": [],
   "source": [
    "import numpy as np\n",
    "A = np.random.randint(0, 25, size=6)\n",
    "C = np.random.randint(0, 25, size=6)"
   ]
  },
  {
   "cell_type": "code",
   "execution_count": 3,
   "id": "8e80978c-84d4-4a53-815a-b99f294efd2c",
   "metadata": {},
   "outputs": [
    {
     "data": {
      "text/plain": [
       "array([11, 11, 15, 21, 22, 17])"
      ]
     },
     "execution_count": 3,
     "metadata": {},
     "output_type": "execute_result"
    }
   ],
   "source": [
    "A"
   ]
  },
  {
   "cell_type": "code",
   "execution_count": 4,
   "id": "4a54fc8f-9427-420e-8bf9-ceadeae02789",
   "metadata": {},
   "outputs": [
    {
     "data": {
      "text/plain": [
       "array([24,  5,  6, 13, 11, 22])"
      ]
     },
     "execution_count": 4,
     "metadata": {},
     "output_type": "execute_result"
    }
   ],
   "source": [
    "C"
   ]
  },
  {
   "cell_type": "code",
   "execution_count": 8,
   "id": "2d3cba04-7f7d-4fc9-bc73-7105f7e1acb9",
   "metadata": {},
   "outputs": [],
   "source": [
    "# Подпрограмма, создающая массивы :/\n",
    "def new_arrs(arr1, arr2):\n",
    "    square_A = arr1**2\n",
    "    square_C = arr2**2\n",
    "    multi_AC = A*C\n",
    "    return f' A^2: {square_A},\\n C^2: {square_C},\\n A*C:{multi_AC}'\n",
    "\n",
    "# Подпрограмма, считающая чет-нечет\n",
    "def even_count(arr:np.array):\n",
    "    return f'Массив: {arr}, кол-во четных элементов: {np.sum(arr%2==0)}, кол-во нечетных: {np.sum(arr%2==1)}'"
   ]
  },
  {
   "cell_type": "code",
   "execution_count": 9,
   "id": "652ea533-39ad-42e0-a2da-65382766ecae",
   "metadata": {},
   "outputs": [
    {
     "name": "stdout",
     "output_type": "stream",
     "text": [
      " A^2: [121 121 225 441 484 289],\n",
      " C^2: [576  25  36 169 121 484],\n",
      " A*C:[264  55  90 273 242 374]\n"
     ]
    }
   ],
   "source": [
    "print(new_arrs(A, C))"
   ]
  },
  {
   "cell_type": "code",
   "execution_count": null,
   "id": "abff58a2-370b-4470-a549-286b30024b58",
   "metadata": {},
   "outputs": [],
   "source": []
  }
 ],
 "metadata": {
  "kernelspec": {
   "display_name": "Python 3 (ipykernel)",
   "language": "python",
   "name": "python3"
  },
  "language_info": {
   "codemirror_mode": {
    "name": "ipython",
    "version": 3
   },
   "file_extension": ".py",
   "mimetype": "text/x-python",
   "name": "python",
   "nbconvert_exporter": "python",
   "pygments_lexer": "ipython3",
   "version": "3.12.7"
  }
 },
 "nbformat": 4,
 "nbformat_minor": 5
}
