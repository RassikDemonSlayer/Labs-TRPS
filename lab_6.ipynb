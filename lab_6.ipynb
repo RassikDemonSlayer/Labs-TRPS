{
 "cells": [
  {
   "cell_type": "markdown",
   "id": "44a4bcb9-273f-4a5a-a06b-d0e0f897c2a3",
   "metadata": {},
   "source": [
    "#### **Задание 6. Вариант 3**"
   ]
  },
  {
   "cell_type": "markdown",
   "id": "b53b9fc8-706a-4bb8-81df-2b957b23ec1b",
   "metadata": {},
   "source": [
    "**Задача 1**\\\n",
    "Дано 20 чисел. Найти их среднее арифметические значение."
   ]
  },
  {
   "cell_type": "code",
   "execution_count": 3,
   "id": "349bc458-a2ba-4e12-8b5c-72fe458192fc",
   "metadata": {},
   "outputs": [],
   "source": [
    "import numpy as np"
   ]
  },
  {
   "cell_type": "code",
   "execution_count": 4,
   "id": "05b72a32-d6df-4a70-bb3d-db128244323f",
   "metadata": {},
   "outputs": [],
   "source": [
    "arr = np.random.randint(-100, 100, size=20, dtype='int8')"
   ]
  },
  {
   "cell_type": "code",
   "execution_count": 5,
   "id": "a062fde0-7da2-4560-8d87-9f12048ca228",
   "metadata": {},
   "outputs": [
    {
     "data": {
      "text/plain": [
       "array([ 80,  61,  91, -57,  27,  29,  24,   0, -94,  80,  47,  22,  71,\n",
       "       -38,  50, -99,  27,  23,  70, -98], dtype=int8)"
      ]
     },
     "execution_count": 5,
     "metadata": {},
     "output_type": "execute_result"
    }
   ],
   "source": [
    "arr"
   ]
  },
  {
   "cell_type": "code",
   "execution_count": 11,
   "id": "d605d3f7-4ecc-4a62-8c33-0d79ac5e2c7e",
   "metadata": {},
   "outputs": [
    {
     "data": {
      "text/plain": [
       "'Среднее арифметическое значени: 15.8'"
      ]
     },
     "execution_count": 11,
     "metadata": {},
     "output_type": "execute_result"
    }
   ],
   "source": [
    "f'Среднее арифметическое значени: {arr.mean()}'"
   ]
  },
  {
   "cell_type": "markdown",
   "id": "36a38e43-da79-4baa-a9b5-7a6e52d43267",
   "metadata": {},
   "source": [
    "**Задача 2** \\\n",
    "Модифицировать программу 3_2 для функций F1(x) и F2(x) таким образом, чтобы результаты были сформированы в виде трех одномерных массивов.\\\n",
    "Выполнить ее и сравнить результаты с полученными в заданиях 3 и 4."
   ]
  },
  {
   "cell_type": "code",
   "execution_count": null,
   "id": "74f4dcb4-ca15-4ea2-81a7-ea5a2e2200c1",
   "metadata": {},
   "outputs": [],
   "source": []
  }
 ],
 "metadata": {
  "kernelspec": {
   "display_name": "Python 3 (ipykernel)",
   "language": "python",
   "name": "python3"
  },
  "language_info": {
   "codemirror_mode": {
    "name": "ipython",
    "version": 3
   },
   "file_extension": ".py",
   "mimetype": "text/x-python",
   "name": "python",
   "nbconvert_exporter": "python",
   "pygments_lexer": "ipython3",
   "version": "3.12.7"
  }
 },
 "nbformat": 4,
 "nbformat_minor": 5
}
