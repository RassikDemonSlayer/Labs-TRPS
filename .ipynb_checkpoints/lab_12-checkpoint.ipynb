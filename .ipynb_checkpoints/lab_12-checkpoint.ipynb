{
 "cells": [
  {
   "cell_type": "markdown",
   "id": "6efb9955-0a81-42c7-a380-4d5e28270330",
   "metadata": {},
   "source": [
    "#### **Задание 12. Вариант 3**"
   ]
  },
  {
   "cell_type": "markdown",
   "id": "5dc99e53-3196-40ad-ab8c-a63c4320e9df",
   "metadata": {},
   "source": [
    "**Задача 1**\\\n",
    "Дан список студентов группы. Заполнить его следующими сведениями: фамилия, имя, отчество, имеет ли компьютер (если имеет, то какой\n",
    "и с какого года). Подсчитать, сколько студентов имеют ПК."
   ]
  },
  {
   "cell_type": "code",
   "execution_count": 1,
   "id": "4d1230f9-2261-4297-8d11-2b31bbd1d08e",
   "metadata": {},
   "outputs": [],
   "source": [
    "import numpy as np"
   ]
  },
  {
   "cell_type": "code",
   "execution_count": 10,
   "id": "af21554b-1e06-4b6b-812f-f294769b24b8",
   "metadata": {},
   "outputs": [],
   "source": [
    "# Что то типо аналога \"Struct\" - Структурированный массив с произвольными типами\n",
    "student_dtype = np.dtype([('Фамилия', '<U15'),\n",
    "                          ('Имя', '<U15'),\n",
    "                          ('Отчество', '<U15'),\n",
    "                          ('Наличие компьютера', 'bool'),\n",
    "                          ('Тип', '<U15'),\n",
    "                          ('Год появления', 'float'),\n",
    "                         ])"
   ]
  },
  {
   "cell_type": "code",
   "execution_count": 12,
   "id": "dc6205da-5d7e-4119-93e4-b4eb0df2481f",
   "metadata": {},
   "outputs": [
    {
     "name": "stdin",
     "output_type": "stream",
     "text": [
      "Введите количество студентов:  1\n"
     ]
    }
   ],
   "source": [
    "num = int(input('Введите количество студентов: '))"
   ]
  },
  {
   "cell_type": "code",
   "execution_count": 13,
   "id": "f29fa243-a152-4100-9be6-0a94352cddba",
   "metadata": {},
   "outputs": [],
   "source": [
    "students = np.empty(num, dtype=student_dtype)"
   ]
  },
  {
   "cell_type": "code",
   "execution_count": null,
   "id": "1372faf0-42ba-47a6-96ce-8e0eeab569e8",
   "metadata": {},
   "outputs": [],
   "source": [
    "for i in range(num):\n",
    "    Фамилия = input(\"Введите фамилию студента: \")\n",
    "    Имя = input(\"Введите имя студента: \")\n",
    "    Отчество = input(\"Введите отчество студента: \")\n",
    "    Комп = input(\"Есть ли у студента компьютер? (Да или Нет): \").strip().lower()\n",
    "    if Комп=='да':\n",
    "        Тип = input(\"Какой?: \")\n",
    "        Год = input(\"С какого года?: \")\n",
    "    else:\n",
    "        Тип, Год = np.NaN, np.NaN\n",
    "    students[i] = (Фамилия, Имя, Отчество, Комп, Тип, Год)"
   ]
  },
  {
   "cell_type": "code",
   "execution_count": null,
   "id": "271e3f61-6c64-4b06-adf7-f3af879882a7",
   "metadata": {},
   "outputs": [],
   "source": [
    "students"
   ]
  },
  {
   "cell_type": "code",
   "execution_count": 35,
   "id": "3b7a2d66-c65c-438e-a261-d80aeb3dfdc3",
   "metadata": {},
   "outputs": [],
   "source": [
    "#---------------------------------------------------"
   ]
  },
  {
   "cell_type": "code",
   "execution_count": 37,
   "id": "f06e1976-177d-4158-95fc-a4f54ac4288f",
   "metadata": {},
   "outputs": [],
   "source": [
    "import pandas as pd"
   ]
  },
  {
   "cell_type": "code",
   "execution_count": 36,
   "id": "73029237-aad3-4284-95d8-3fca8d84a2b9",
   "metadata": {},
   "outputs": [
    {
     "name": "stdin",
     "output_type": "stream",
     "text": [
      "Введите количество студентов:  2\n"
     ]
    }
   ],
   "source": [
    "num = int(input('Введите количество студентов: '))"
   ]
  },
  {
   "cell_type": "code",
   "execution_count": 38,
   "id": "ac3aa5fd-7b17-47e9-9bd9-b6e33267d6f9",
   "metadata": {},
   "outputs": [],
   "source": [
    "cols = [\"Фамилия\", \"Имя\", \"Отчество\", \"Наличие компьютера\", \"Тип компьютера\", \"Год покупки\"]"
   ]
  },
  {
   "cell_type": "code",
   "execution_count": 41,
   "id": "e4813586-6735-45a9-8f73-1da115dffa3c",
   "metadata": {},
   "outputs": [],
   "source": [
    "students = pd.DataFrame(columns=cols)"
   ]
  },
  {
   "cell_type": "code",
   "execution_count": null,
   "id": "8256597c-c5f9-4135-a69a-a0a5c3dac03f",
   "metadata": {},
   "outputs": [],
   "source": [
    "for i in range(num):\n",
    "    фамилия = input(\"Введите фамилию студента: \")\n",
    "    имя = input(\"Введите имя студента: \")\n",
    "    отчество = input(\"Введите отчество студента: \")\n",
    "\n",
    "    # Приводим ввод в bool\n",
    "    комп = input(\"Есть ли у студента компьютер? (да/нет): \").strip().lower()\n",
    "\n",
    "    if комп:\n",
    "        тип = input(\"Какой компьютер?: \")\n",
    "        год = int(input(\"С какого года?: \")) \n",
    "    else:\n",
    "        тип, год = np.NaN, np.NaN \n",
    "\n",
    "    # Добавляем строку в DataFrame\n",
    "    students.loc[i] = [фамилия, имя, отчество, комп, тип, год]"
   ]
  },
  {
   "cell_type": "code",
   "execution_count": null,
   "id": "af32dc86-00c6-4cee-9a7d-8ac22c7c7de5",
   "metadata": {},
   "outputs": [],
   "source": [
    "students"
   ]
  },
  {
   "cell_type": "markdown",
   "id": "18c491af-83fb-467d-93a0-b5e6a1f9885d",
   "metadata": {},
   "source": [
    "**Задача 2**\\\n",
    "Дополнить программу12_1 заполнением и обработкой файлов. Имя\n",
    "файла вводить с клавиатуры в процессе работы программы."
   ]
  },
  {
   "cell_type": "markdown",
   "id": "2e127e7f-37d3-4c3f-98e2-c52ce051828a",
   "metadata": {},
   "source": [
    "**Задача 3**\\\n",
    "Реализовать программу9_2 с возвратом нескольких значений из функции через поля структуры."
   ]
  },
  {
   "cell_type": "code",
   "execution_count": null,
   "id": "b0d15d1e-f5cc-490a-9af2-2e421465cb55",
   "metadata": {},
   "outputs": [],
   "source": []
  }
 ],
 "metadata": {
  "kernelspec": {
   "display_name": "Python 3 (ipykernel)",
   "language": "python",
   "name": "python3"
  },
  "language_info": {
   "codemirror_mode": {
    "name": "ipython",
    "version": 3
   },
   "file_extension": ".py",
   "mimetype": "text/x-python",
   "name": "python",
   "nbconvert_exporter": "python",
   "pygments_lexer": "ipython3",
   "version": "3.12.7"
  }
 },
 "nbformat": 4,
 "nbformat_minor": 5
}
