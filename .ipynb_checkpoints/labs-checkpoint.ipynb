{
 "cells": [
  {
   "cell_type": "code",
   "execution_count": null,
   "id": "172a9053-64cb-4b84-8b79-760b72e37e11",
   "metadata": {},
   "outputs": [],
   "source": []
  },
  {
   "cell_type": "markdown",
   "id": "cb064855-1a15-4fce-a298-24db0d33fb42",
   "metadata": {},
   "source": [
    "#### **Задание 6. Вариант 3**"
   ]
  },
  {
   "cell_type": "markdown",
   "id": "ef981215-6fb7-4181-8078-9d756702eff9",
   "metadata": {},
   "source": [
    "**Задача 1**\\\n",
    "3. Дано 20 чисел. Найти их среднее арифметические значение."
   ]
  },
  {
   "cell_type": "code",
   "execution_count": 116,
   "id": "74897666-a9c2-41cb-9aab-8691542d24ec",
   "metadata": {},
   "outputs": [],
   "source": [
    "import numpy as np"
   ]
  },
  {
   "cell_type": "code",
   "execution_count": 117,
   "id": "05b72a32-d6df-4a70-bb3d-db128244323f",
   "metadata": {},
   "outputs": [],
   "source": [
    "arr = np.random.randint(-100, 100, size=20, dtype='int8')"
   ]
  },
  {
   "cell_type": "code",
   "execution_count": 118,
   "id": "a062fde0-7da2-4560-8d87-9f12048ca228",
   "metadata": {},
   "outputs": [
    {
     "data": {
      "text/plain": [
       "array([ 98,  55, -65, -59,  91,  34,  39,  12, -71, -69,  30,  84,  99,\n",
       "       -33,  29, -12,  24,  26,  89, -23], dtype=int8)"
      ]
     },
     "execution_count": 118,
     "metadata": {},
     "output_type": "execute_result"
    }
   ],
   "source": [
    "arr"
   ]
  },
  {
   "cell_type": "code",
   "execution_count": 119,
   "id": "d605d3f7-4ecc-4a62-8c33-0d79ac5e2c7e",
   "metadata": {},
   "outputs": [
    {
     "data": {
      "text/plain": [
       "18.9"
      ]
     },
     "execution_count": 119,
     "metadata": {},
     "output_type": "execute_result"
    }
   ],
   "source": [
    "arr.mean()"
   ]
  },
  {
   "cell_type": "markdown",
   "id": "4aabf307-d265-406f-bcc7-cd2d1cf5f538",
   "metadata": {},
   "source": [
    "**Задача 2**\\\n",
    "Модифицировать программу 3_2 для функций F1(x) и F2(x) таким образом, чтобы результаты были сформированы в виде трех одномерных массивов. Выполнить ее и сравнить результаты с полученными в заданиях 3 и 4."
   ]
  },
  {
   "cell_type": "markdown",
   "id": "4cc75bcd-7f6c-4e21-ba5b-68ca01f1dcd6",
   "metadata": {},
   "source": [
    "*Программа 3_2*"
   ]
  },
  {
   "cell_type": "markdown",
   "id": "725280ee-febf-4212-aa18-c4816882e236",
   "metadata": {},
   "source": [
    "Вычислить значения двух функций в n точках, равномерно распределенных в диапазоне а ≤ x ≤ b. Результаты оформить в виде таблицы."
   ]
  },
  {
   "attachments": {
    "8f2293c2-19d9-4ecf-b4e4-30489234164c.png": {
     "image/png": "[encoded data removed]"
    },
    "d7313f15-7f25-4256-93f0-da9c7f3c2836.png": {
     "image/png": "[encoded data removed]"
    }
   },
   "cell_type": "markdown",
   "id": "872b366b-534a-4f5d-8eb9-9555a3bf8388",
   "metadata": {},
   "source": [
    "![image.png](attachment:8f2293c2-19d9-4ecf-b4e4-30489234164c.png)\n",
    "![image.png](attachment:d7313f15-7f25-4256-93f0-da9c7f3c2836.png)"
   ]
  },
  {
   "cell_type": "markdown",
   "id": "9bd09fba-7afc-4505-a16d-8e0f6ebd8c6c",
   "metadata": {},
   "source": [
    "#### **Задание 7. Вариант 3**"
   ]
  },
  {
   "cell_type": "markdown",
   "id": "0d170d8b-536d-4c9e-90e5-53ed59756f6e",
   "metadata": {},
   "source": [
    "**Задача 1** \\\n",
    "3. Даны матрица A[4][4] вещественных чисел и константа К. Вычислить матрицу С = А*К."
   ]
  },
  {
   "cell_type": "code",
   "execution_count": 120,
   "id": "9e8c832a-72ce-49dc-806c-c845d5177a5d",
   "metadata": {},
   "outputs": [],
   "source": [
    "import numpy as np"
   ]
  },
  {
   "cell_type": "code",
   "execution_count": 121,
   "id": "a068c2e6-876a-4da2-8231-14d7a887d014",
   "metadata": {},
   "outputs": [],
   "source": [
    "A = np.random.random(size=(4, 4)).round(2)\n",
    "K = np.random.randint(-100, 100)"
   ]
  },
  {
   "cell_type": "code",
   "execution_count": 122,
   "id": "b1c80750-ca8e-498f-b6c4-4a10de362dd8",
   "metadata": {},
   "outputs": [
    {
     "data": {
      "text/plain": [
       "array([[0.3 , 0.56, 0.62, 0.22],\n",
       "       [0.4 , 0.51, 0.53, 0.84],\n",
       "       [0.11, 0.38, 0.37, 0.98],\n",
       "       [0.11, 0.72, 0.94, 0.24]])"
      ]
     },
     "execution_count": 122,
     "metadata": {},
     "output_type": "execute_result"
    }
   ],
   "source": [
    "A"
   ]
  },
  {
   "cell_type": "code",
   "execution_count": 123,
   "id": "ccb8fa0f-47b8-4b08-877a-9f6bd473dab6",
   "metadata": {},
   "outputs": [
    {
     "data": {
      "text/plain": [
       "11"
      ]
     },
     "execution_count": 123,
     "metadata": {},
     "output_type": "execute_result"
    }
   ],
   "source": [
    "K"
   ]
  },
  {
   "cell_type": "code",
   "execution_count": 124,
   "id": "be365047-ef6c-410f-bddb-13e401542015",
   "metadata": {},
   "outputs": [
    {
     "data": {
      "text/plain": [
       "array([[ 3.3 ,  6.16,  6.82,  2.42],\n",
       "       [ 4.4 ,  5.61,  5.83,  9.24],\n",
       "       [ 1.21,  4.18,  4.07, 10.78],\n",
       "       [ 1.21,  7.92, 10.34,  2.64]])"
      ]
     },
     "execution_count": 124,
     "metadata": {},
     "output_type": "execute_result"
    }
   ],
   "source": [
    "A*K"
   ]
  },
  {
   "cell_type": "markdown",
   "id": "89f130f8-a666-4a77-b346-fa3355848953",
   "metadata": {},
   "source": [
    "**Задача 2** \\\n",
    "Сформировать таблицу Пифагора."
   ]
  },
  {
   "cell_type": "code",
   "execution_count": 125,
   "id": "821ae760-7afc-40eb-98de-8cae9814ffbc",
   "metadata": {},
   "outputs": [],
   "source": [
    "# 10 на 10\n",
    "rows = np.arange(1, 11).reshape(10, 1)\n",
    "cols = np.arange(1, 11) \n",
    "table = rows * cols"
   ]
  },
  {
   "cell_type": "code",
   "execution_count": 126,
   "id": "bd71459e-aed4-460a-b397-25b1fef624cf",
   "metadata": {},
   "outputs": [
    {
     "data": {
      "text/plain": [
       "array([[  1,   2,   3,   4,   5,   6,   7,   8,   9,  10],\n",
       "       [  2,   4,   6,   8,  10,  12,  14,  16,  18,  20],\n",
       "       [  3,   6,   9,  12,  15,  18,  21,  24,  27,  30],\n",
       "       [  4,   8,  12,  16,  20,  24,  28,  32,  36,  40],\n",
       "       [  5,  10,  15,  20,  25,  30,  35,  40,  45,  50],\n",
       "       [  6,  12,  18,  24,  30,  36,  42,  48,  54,  60],\n",
       "       [  7,  14,  21,  28,  35,  42,  49,  56,  63,  70],\n",
       "       [  8,  16,  24,  32,  40,  48,  56,  64,  72,  80],\n",
       "       [  9,  18,  27,  36,  45,  54,  63,  72,  81,  90],\n",
       "       [ 10,  20,  30,  40,  50,  60,  70,  80,  90, 100]])"
      ]
     },
     "execution_count": 126,
     "metadata": {},
     "output_type": "execute_result"
    }
   ],
   "source": [
    "table"
   ]
  },
  {
   "cell_type": "markdown",
   "id": "62786ba7-a9fe-4b3d-ad73-e8bb6401bcf9",
   "metadata": {},
   "source": [
    "**Задача 3** "
   ]
  },
  {
   "cell_type": "markdown",
   "id": "1a3a6c13-450a-471b-8215-36620d2906ca",
   "metadata": {},
   "source": [
    "#### **Задание 8. Вариант 3**"
   ]
  },
  {
   "cell_type": "markdown",
   "id": "687f34f3-d798-4969-af13-ed5872a51536",
   "metadata": {},
   "source": [
    "**Задача 3** \\\n",
    "3. Определить координаты центра тяжести трех материальных точек \\\n",
    "с массами m1, m2, m3 и координатами (x1,y1), (x2,y2), (x3,y3) по формулам:\\\n",
    "xc = (m1x1 + m2x2 + m3x3)/(m1 + m2 + m3),\\\n",
    "yc = (m1y1 + m2y2 + m3y3)/(m1 + m2 + m3).\\\n",
    "Вычисление координаты оформить функцией с параметрами."
   ]
  },
  {
   "cell_type": "code",
   "execution_count": 127,
   "id": "de257e6f-31ef-4a9a-a434-5d4d518443b1",
   "metadata": {},
   "outputs": [],
   "source": [
    "import numpy as np"
   ]
  },
  {
   "cell_type": "code",
   "execution_count": 128,
   "id": "75a47ee4-9a53-4936-9090-fd58545468bf",
   "metadata": {},
   "outputs": [],
   "source": [
    "def center_mass_coords(m1, m2, m3, coords1, coords2, coords3,):\n",
    "    xc = (m1*coords1[0]+m2*coords2[0]+ m3*coords3[0])/(m1+m2+m3)\n",
    "    yc = (m1*coords1[1]+m2*coords2[1]+ m3*coords3[1])/(m1+m2+m3)\n",
    "    return xc, yc"
   ]
  },
  {
   "cell_type": "code",
   "execution_count": 129,
   "id": "f271e7ee-984b-485a-9e71-fcadab971187",
   "metadata": {},
   "outputs": [],
   "source": [
    "m1 = np.random.randint(1, 1000)\n",
    "m2 = np.random.randint(1, 1000)\n",
    "m3 = np.random.randint(1, 1000)\n",
    "\n",
    "m1coords = tuple((np.random.randint(-100, 100), np.random.randint(-100, 100)))\n",
    "m2coords = tuple((np.random.randint(-100, 100), np.random.randint(-100, 100)))\n",
    "m3coords = tuple((np.random.randint(-100, 100), np.random.randint(-100, 100)))"
   ]
  },
  {
   "cell_type": "code",
   "execution_count": 130,
   "id": "117b1ffd-8a5c-4347-87d6-33fbd4f26462",
   "metadata": {},
   "outputs": [
    {
     "data": {
      "text/plain": [
       "(799, 8, 807)"
      ]
     },
     "execution_count": 130,
     "metadata": {},
     "output_type": "execute_result"
    }
   ],
   "source": [
    "m1, m2, m3"
   ]
  },
  {
   "cell_type": "code",
   "execution_count": 131,
   "id": "8f054e2d-d662-4820-b96e-021abcbda9da",
   "metadata": {},
   "outputs": [
    {
     "data": {
      "text/plain": [
       "((13, 25), (-71, 15), (-37, 2))"
      ]
     },
     "execution_count": 131,
     "metadata": {},
     "output_type": "execute_result"
    }
   ],
   "source": [
    "m1coords, m2coords, m3coords"
   ]
  },
  {
   "cell_type": "code",
   "execution_count": 132,
   "id": "9254a38f-7b4e-4dee-88ec-63a9053f9bea",
   "metadata": {},
   "outputs": [
    {
     "data": {
      "text/plain": [
       "(-12.41635687732342, 13.450433705080545)"
      ]
     },
     "execution_count": 132,
     "metadata": {},
     "output_type": "execute_result"
    }
   ],
   "source": [
    "center_mass_coords(m1, m2, m3, m1coords, m2coords, m3coords)"
   ]
  },
  {
   "cell_type": "markdown",
   "id": "6b21f780-8c04-470b-a367-bfab75295940",
   "metadata": {},
   "source": [
    "#### **Задание 9. Вариант 3**"
   ]
  },
  {
   "cell_type": "markdown",
   "id": "f1336c12-8cff-42d6-a1ce-3362f0d7001f",
   "metadata": {},
   "source": [
    "**Задача 1**\\\n",
    "Написать и отладить программу для задачи из задания 7 (программа7_1) с выделением алгоритма обработки или формирования массива.\n",
    "Организовать вызов процедуры с параметрами-массивами для двух наборов исходных данных. Обработку массив выполнить в подпрограмме,\n",
    "а ввод исходных данных и вывод результатов – в главной функции. Для\n",
    "ускорения отладки массив можно задать константой."
   ]
  },
  {
   "cell_type": "markdown",
   "id": "e5a896b9-2c31-4a8e-a820-8be5c2df0352",
   "metadata": {},
   "source": [
    "**Задача 2**\\\n",
    "3. Даны два одномерных массива А[6] и C[6]. Получить A^2, С^2, А*С.\n",
    "Подсчитать число четных и число нечетных чисел в полученных массивах. Перемножение массивов и подсчет выполнить в подпрограмме"
   ]
  },
  {
   "cell_type": "code",
   "execution_count": 133,
   "id": "d57daf0d-21db-453b-857e-11477ac75e3e",
   "metadata": {},
   "outputs": [],
   "source": [
    "import numpy as np\n",
    "A = np.random.randint(0, 25, size=6)\n",
    "C = np.random.randint(0, 25, size=6)"
   ]
  },
  {
   "cell_type": "code",
   "execution_count": 134,
   "id": "d59bc7f6-997d-4141-bb38-66199456e2e7",
   "metadata": {},
   "outputs": [
    {
     "data": {
      "text/plain": [
       "array([ 6,  3,  3,  8,  1, 12])"
      ]
     },
     "execution_count": 134,
     "metadata": {},
     "output_type": "execute_result"
    }
   ],
   "source": [
    "A"
   ]
  },
  {
   "cell_type": "code",
   "execution_count": 135,
   "id": "2031526b-b4d7-4392-852b-a59f87220c76",
   "metadata": {},
   "outputs": [
    {
     "data": {
      "text/plain": [
       "array([11,  5, 15, 17, 23,  6])"
      ]
     },
     "execution_count": 135,
     "metadata": {},
     "output_type": "execute_result"
    }
   ],
   "source": [
    "C"
   ]
  },
  {
   "cell_type": "code",
   "execution_count": 162,
   "id": "797a6634-ff14-4540-ba1a-c0a5f39d3071",
   "metadata": {},
   "outputs": [],
   "source": [
    "# Подпрограмма, создающая массивы :/\n",
    "def new_arrs(arr1, arr2):\n",
    "    square_A = arr1**2\n",
    "    square_C = arr2**2\n",
    "    multi_AC = A*C\n",
    "    return f' A^2: {square_A},\\n C^2: {square_C},\\n A*C:{multi_AC}'\n",
    "\n",
    "# Подпрограмма, считающая чет-нечет\n",
    "def even_count(arr:np.array):\n",
    "    return f'Массив: {arr}, кол-во четных элементов: {np.sum(arr%2==0)}, кол-во нечетных: {np.sum(arr%2==1)}'"
   ]
  },
  {
   "cell_type": "code",
   "execution_count": 163,
   "id": "48c53b8d-a5b6-403c-b9f3-a48657939e28",
   "metadata": {},
   "outputs": [
    {
     "name": "stdout",
     "output_type": "stream",
     "text": [
      " A^2: [ 1  4  9 16 25 36],\n",
      " C^2: [ 100  400  900 1600 2500 3600],\n",
      " A*C:[ 10  40  90 160 250 360]\n"
     ]
    }
   ],
   "source": [
    "print(new_arrs(A, C))"
   ]
  },
  {
   "cell_type": "code",
   "execution_count": 164,
   "id": "f015e9e0-12ec-4b23-8d3e-38bb83481d3f",
   "metadata": {},
   "outputs": [
    {
     "data": {
      "text/plain": [
       "'Массив: [1 2 3 4 5 6], кол-во четных элементов: 3, кол-во нечетных: 3'"
      ]
     },
     "execution_count": 164,
     "metadata": {},
     "output_type": "execute_result"
    }
   ],
   "source": [
    "even_count(A)"
   ]
  },
  {
   "cell_type": "markdown",
   "id": "4113f605-f45d-46c0-9c4b-e160afb27bf9",
   "metadata": {},
   "source": [
    "#### **Задание 10. Вариант 3**"
   ]
  },
  {
   "cell_type": "markdown",
   "id": "4211ffcc-f2cd-460f-9331-6b8b10908ba8",
   "metadata": {},
   "source": [
    "**Задача 1**\\\n",
    "Выполнить задачу из лабораторной работы 9 (программа9_2) при\n",
    "считывании исходных данных из одного файла, записать полученные результаты в другой текстовый файл. Файл с исходными данными должен\n",
    "быть подготовлен предварительно и находиться в текущей папке."
   ]
  },
  {
   "cell_type": "code",
   "execution_count": 165,
   "id": "f7aca709-d671-4831-831f-90d18d1c8df0",
   "metadata": {},
   "outputs": [],
   "source": [
    "with open('input_file.txt', 'r') as f:\n",
    "    lines = f.readlines()\n",
    "    \n",
    "A = np.array(list(map(int, lines[0].split(\",\"))))\n",
    "C = np.array(list(map(int, lines[1].split(\",\"))))"
   ]
  },
  {
   "cell_type": "code",
   "execution_count": 166,
   "id": "c5fca67f-7f0e-4f0f-b4bb-4390d434b55a",
   "metadata": {},
   "outputs": [
    {
     "data": {
      "text/plain": [
       "(array([1, 2, 3, 4, 5, 6]), array([10, 20, 30, 40, 50, 60]))"
      ]
     },
     "execution_count": 166,
     "metadata": {},
     "output_type": "execute_result"
    }
   ],
   "source": [
    "A, C"
   ]
  },
  {
   "cell_type": "code",
   "execution_count": 169,
   "id": "ef0e5bf4-df8e-45e9-9c87-c9634c84033b",
   "metadata": {},
   "outputs": [],
   "source": [
    "print(new_arrs(A,C), file=open(\"output_file_for_new_arrs.txt\", \"w\", encoding=\"utf-8\"))"
   ]
  },
  {
   "cell_type": "code",
   "execution_count": 175,
   "id": "efb6599f-bd4e-4322-afca-14deaeb1aa34",
   "metadata": {},
   "outputs": [],
   "source": [
    "print(even_count(A), file=open(\"output_file_for_evens.txt\", \"w\", encoding=\"utf-8\"))"
   ]
  },
  {
   "cell_type": "code",
   "execution_count": null,
   "id": "2383386f-96f8-405b-8b9b-04c3b2c28ac5",
   "metadata": {},
   "outputs": [],
   "source": []
  }
 ],
 "metadata": {
  "kernelspec": {
   "display_name": "Python 3 (ipykernel)",
   "language": "python",
   "name": "python3"
  },
  "language_info": {
   "codemirror_mode": {
    "name": "ipython",
    "version": 3
   },
   "file_extension": ".py",
   "mimetype": "text/x-python",
   "name": "python",
   "nbconvert_exporter": "python",
   "pygments_lexer": "ipython3",
   "version": "3.12.7"
  }
 },
 "nbformat": 4,
 "nbformat_minor": 5
}
