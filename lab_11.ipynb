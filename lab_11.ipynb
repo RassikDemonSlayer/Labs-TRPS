{
 "cells": [
  {
   "cell_type": "markdown",
   "id": "b1263bea-7430-437f-b052-f08e3d90a6c3",
   "metadata": {},
   "source": [
    "#### **Задание 11. Вариант 3**"
   ]
  },
  {
   "cell_type": "markdown",
   "id": "816104fa-2a67-41b4-b905-b8d0795775ea",
   "metadata": {},
   "source": [
    "**Задача 1**\\\n",
    "В заданной строке подсчитать частоту появления букв «a», «b»"
   ]
  },
  {
   "cell_type": "code",
   "execution_count": 8,
   "id": "984f9ad3-9be6-48af-8bb6-f0b7a4e7104b",
   "metadata": {},
   "outputs": [],
   "source": [
    "string = 'abcdbdcbacbdabadcbcbacabcbd'"
   ]
  },
  {
   "cell_type": "code",
   "execution_count": 9,
   "id": "ca657f75-b58c-469c-b4e4-710635eab43a",
   "metadata": {},
   "outputs": [
    {
     "data": {
      "text/plain": [
       "6"
      ]
     },
     "execution_count": 9,
     "metadata": {},
     "output_type": "execute_result"
    }
   ],
   "source": [
    "string.count('a')"
   ]
  },
  {
   "cell_type": "code",
   "execution_count": 10,
   "id": "7907a55b-8cd7-4280-bc0d-2e610dc6b0aa",
   "metadata": {},
   "outputs": [
    {
     "data": {
      "text/plain": [
       "9"
      ]
     },
     "execution_count": 10,
     "metadata": {},
     "output_type": "execute_result"
    }
   ],
   "source": [
    "string.count('b')"
   ]
  },
  {
   "cell_type": "markdown",
   "id": "2c8201d1-50eb-4460-9d1a-4edbb2fde801",
   "metadata": {},
   "source": [
    "**Задача 2**\\\n",
    "Определить, сколько различных символов входит в заданный текст,\n",
    "содержащий не более 100 литер и оканчивающийся точкой.\n"
   ]
  },
  {
   "cell_type": "code",
   "execution_count": 17,
   "id": "ad9e5f59-6394-4c36-b43e-666cd8d1f723",
   "metadata": {},
   "outputs": [],
   "source": [
    "text = 'Это испытание! Прошлое снова бросает мне вызов, и я с ним справлюсь! Чтобы повзрослеть, человек должен преодолеть ошибки юности.'"
   ]
  },
  {
   "cell_type": "code",
   "execution_count": 18,
   "id": "08472b25-a7d1-4491-8d84-f5a9731a660d",
   "metadata": {},
   "outputs": [
    {
     "data": {
      "text/plain": [
       "30"
      ]
     },
     "execution_count": 18,
     "metadata": {},
     "output_type": "execute_result"
    }
   ],
   "source": [
    "len(set(text))"
   ]
  },
  {
   "cell_type": "code",
   "execution_count": null,
   "id": "037fb6d8-72f9-48ed-82a7-50f449509369",
   "metadata": {},
   "outputs": [],
   "source": []
  }
 ],
 "metadata": {
  "kernelspec": {
   "display_name": "Python 3 (ipykernel)",
   "language": "python",
   "name": "python3"
  },
  "language_info": {
   "codemirror_mode": {
    "name": "ipython",
    "version": 3
   },
   "file_extension": ".py",
   "mimetype": "text/x-python",
   "name": "python",
   "nbconvert_exporter": "python",
   "pygments_lexer": "ipython3",
   "version": "3.12.7"
  }
 },
 "nbformat": 4,
 "nbformat_minor": 5
}
