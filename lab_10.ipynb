{
 "cells": [
  {
   "cell_type": "markdown",
   "id": "e1149ad1-c5b7-40da-b9f1-398b1ff7a59f",
   "metadata": {},
   "source": [
    "#### **Задание 10. Вариант 3**"
   ]
  },
  {
   "cell_type": "markdown",
   "id": "a4cd4aa6-8ffb-4c5e-a6e1-ea694554972b",
   "metadata": {},
   "source": [
    "**Задача 1**\\\n",
    "Выполнить задачу из лабораторной работы 9 (программа9_2) при\n",
    "считывании исходных данных из одного файла, записать полученные результаты в другой текстовый файл. Файл с исходными данными должен\n",
    "быть подготовлен предварительно и находиться в текущей папке."
   ]
  },
  {
   "cell_type": "code",
   "execution_count": 9,
   "id": "cca1847f-9d48-41a7-9af8-be96bd5aa2ba",
   "metadata": {},
   "outputs": [],
   "source": [
    "import numpy as np"
   ]
  },
  {
   "cell_type": "code",
   "execution_count": 10,
   "id": "605a2a5f-fdf6-4f88-a2d6-353f5b9e8738",
   "metadata": {},
   "outputs": [],
   "source": [
    "# Подпрограмма, создающая массивы :/\n",
    "def new_arrs(arr1, arr2):\n",
    "    square_A = arr1**2\n",
    "    square_C = arr2**2\n",
    "    multi_AC = A*C\n",
    "    return f' A^2: {square_A},\\n C^2: {square_C},\\n A*C:{multi_AC}'\n",
    "\n",
    "# Подпрограмма, считающая чет-нечет\n",
    "def even_count(arr:np.array):\n",
    "    return f'Массив: {arr}, кол-во четных элементов: {np.sum(arr%2==0)}, кол-во нечетных: {np.sum(arr%2==1)}'"
   ]
  },
  {
   "cell_type": "code",
   "execution_count": 11,
   "id": "edb58082-e5b7-488b-9450-f9126fc9a0ff",
   "metadata": {},
   "outputs": [],
   "source": [
    "with open('input_file.txt', 'r') as f:\n",
    "    lines = f.readlines()\n",
    "    \n",
    "A = np.array(list(map(int, lines[0].split(\",\"))))\n",
    "C = np.array(list(map(int, lines[1].split(\",\"))))"
   ]
  },
  {
   "cell_type": "code",
   "execution_count": 12,
   "id": "ec2ba581-cefe-4d93-a5a9-6601f7fa11a6",
   "metadata": {},
   "outputs": [
    {
     "data": {
      "text/plain": [
       "(array([1, 2, 3, 4, 5, 6]), array([10, 20, 30, 40, 50, 60]))"
      ]
     },
     "execution_count": 12,
     "metadata": {},
     "output_type": "execute_result"
    }
   ],
   "source": [
    "A, C"
   ]
  },
  {
   "cell_type": "code",
   "execution_count": 13,
   "id": "790dcd4d-44c2-44b9-af45-dca1c48b5940",
   "metadata": {},
   "outputs": [],
   "source": [
    "print(new_arrs(A,C), file=open(\"output_file_for_new_arrs.txt\", \"w\", encoding=\"utf-8\"))"
   ]
  },
  {
   "cell_type": "code",
   "execution_count": 14,
   "id": "0dfc9f11-9594-4878-a3b6-dceec4a0a08b",
   "metadata": {},
   "outputs": [],
   "source": [
    "print(even_count(A), file=open(\"output_file_for_evens.txt\", \"w\", encoding=\"utf-8\"))"
   ]
  },
  {
   "cell_type": "markdown",
   "id": "62dcb929-a68a-4137-828e-2f055acb8a36",
   "metadata": {},
   "source": [
    "**Задача 2**\\\n",
    "В текстовом файле Т1 записана последовательность чисел. Разработать программу, переписывающую в текстовый файл Т2 сначала все положительные числа из Т1, нуль, затем – все отрицательные числа"
   ]
  },
  {
   "cell_type": "code",
   "execution_count": 17,
   "id": "63238686-3077-472b-b999-c44acfd75241",
   "metadata": {},
   "outputs": [],
   "source": [
    "with open('T1.txt', 'r') as f:\n",
    "    lines = f.readlines()\n",
    "T1 = np.array(list(map(int, lines[0].split(\",\"))))"
   ]
  },
  {
   "cell_type": "code",
   "execution_count": 18,
   "id": "dc5a38e3-3549-4274-aec2-971ec12f0d02",
   "metadata": {},
   "outputs": [
    {
     "data": {
      "text/plain": [
       "array([  1,   9, -10, 143,  99, -20, -33])"
      ]
     },
     "execution_count": 18,
     "metadata": {},
     "output_type": "execute_result"
    }
   ],
   "source": [
    "T1"
   ]
  },
  {
   "cell_type": "code",
   "execution_count": 26,
   "id": "4a390efb-6281-4468-b86c-83d93ea1e71f",
   "metadata": {},
   "outputs": [],
   "source": [
    "T2 = np.sort(T1, kind='quicksort')[::-1]"
   ]
  },
  {
   "cell_type": "code",
   "execution_count": 29,
   "id": "d02b440d-db78-4db8-b2ab-da9293662127",
   "metadata": {},
   "outputs": [],
   "source": [
    "print(*T2, file=open('T2.txt', 'w'))"
   ]
  }
 ],
 "metadata": {
  "kernelspec": {
   "display_name": "Python 3 (ipykernel)",
   "language": "python",
   "name": "python3"
  },
  "language_info": {
   "codemirror_mode": {
    "name": "ipython",
    "version": 3
   },
   "file_extension": ".py",
   "mimetype": "text/x-python",
   "name": "python",
   "nbconvert_exporter": "python",
   "pygments_lexer": "ipython3",
   "version": "3.12.7"
  }
 },
 "nbformat": 4,
 "nbformat_minor": 5
}
